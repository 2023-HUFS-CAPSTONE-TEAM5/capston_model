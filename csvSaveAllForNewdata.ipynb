{
  "nbformat": 4,
  "nbformat_minor": 0,
  "metadata": {
    "colab": {
      "provenance": []
    },
    "kernelspec": {
      "name": "python3",
      "display_name": "Python 3"
    },
    "language_info": {
      "name": "python"
    }
  },
  "cells": [
    {
      "cell_type": "code",
      "execution_count": null,
      "metadata": {
        "colab": {
          "base_uri": "https://localhost:8080/"
        },
        "id": "PvZufyhYHgYI",
        "outputId": "6edc5fc8-4dd7-41fa-fe08-a60081c69419"
      },
      "outputs": [
        {
          "output_type": "stream",
          "name": "stdout",
          "text": [
            "Drive already mounted at /content/drive; to attempt to forcibly remount, call drive.mount(\"/content/drive\", force_remount=True).\n"
          ]
        }
      ],
      "source": [
        "from google.colab import drive\n",
        "drive.mount('/content/drive')"
      ]
    },
    {
      "cell_type": "code",
      "source": [
        "import glob\n",
        "import os\n",
        "import shutil\n",
        "import pandas as pd\n",
        "import csv\n",
        "import warnings\n",
        "warnings.filterwarnings(\"ignore\")\n",
        "\n",
        "file_path = \"/content/drive/MyDrive/apple_farm/new_data/emotion\"\n",
        "file_list = sorted(os.listdir(file_path))\n",
        "print(file_list)"
      ],
      "metadata": {
        "colab": {
          "base_uri": "https://localhost:8080/"
        },
        "id": "WwRdPHT1HvGH",
        "outputId": "296a2772-0e71-4ece-b4a8-038697d5c721"
      },
      "execution_count": null,
      "outputs": [
        {
          "output_type": "stream",
          "name": "stdout",
          "text": [
            "['.ipynb_checkpoints', '01_neutral', '03_happy', '04_sad', '05_angry', '06_fearful', '07_disgust', '08_surprised', 'csvSavePathForNewdata.ipynb', 'female.csv', 'male.csv', 'test_female.csv', 'test_male.csv', 'test_model.csv']\n"
          ]
        }
      ]
    },
    {
      "cell_type": "code",
      "source": [
        "file_path = \"/content/drive/MyDrive/apple_farm/new_data/emotion\"\n",
        "base_path = \"/content/drive/MyDrive/apple_farm/new_data\"\n",
        "\n",
        "fileAll = os.listdir(base_path)\n",
        "fileCsv = sorted([base_path+ \"/\" + file for file in fileAll if file.endswith('.csv')])\n",
        "csv4 = pd.read_csv(fileCsv[0], header=0,  encoding='cp949')\n",
        "csv5_1 = pd.read_csv(fileCsv[1], header=0,  encoding='cp949')\n",
        "csv5_2 = pd.DataFrame(pd.read_csv(fileCsv[2], header=0,  encoding='cp949'))\n",
        "\n",
        "for i in range(1, 8): # (1, 8)\n",
        "    wav_files = glob.glob(os.path.join(file_path, file_list[i], '*.*'))\n",
        "    for wav_file in wav_files: # wav_file: 파일의 경로 \n",
        "        file_name = os.path.basename(wav_file)[:-4] # file_name: 파일의 이름\n",
        "        if len(csv4.loc[csv4.wav_id == file_name, ]) != 0: # csv파일이 3개라 각 파일이 어떤 csv에 있는지 모르기 때문에 모든 csv에 파일이 있는지 확인 \n",
        "            find_row = csv4.loc[csv4.wav_id == file_name, ] #있으면 그 파일의 행을 가져옴\n",
        "            if (find_row.성별 == 'male').any(): #성별이 남자일 때 test_male_csv에 저장 -> 되는지 확인하고 되면 파일이름은 male.csv로 수정(최종 파일 이름)\n",
        "                f = open(\"/content/drive/MyDrive/apple_farm/new_data/test_male.csv\", 'a', newline='')\n",
        "                wr = csv.writer(f)\n",
        "                wr.writerow([find_row.wav_id.values[0], find_row.성별.values[0], wav_file])\n",
        "                f.close()\n",
        "            elif (find_row.성별 == 'female').any(): #성별이 남자일 때 test_female_csv에 저장 -> 되는지 확인하고 되면 파일이름은 female.csv로 수정 (최종 파일 이름)\n",
        "                f = open(\"/content/drive/MyDrive/apple_farm/new_data/test_female.csv\", 'a', newline='')\n",
        "                wr = csv.writer(f)\n",
        "                wr.writerow([find_row.wav_id.values[0], find_row.성별.values[0], wav_file])\n",
        "                f.close()\n",
        "        elif len(csv5_1.loc[csv5_1.wav_id == file_name, ]) != 0:\n",
        "            find_row = csv5_1.loc[csv5_1.wav_id == file_name, ]\n",
        "            if (find_row.성별 == 'male').any(): # == 쓰면 에러남 (pdDataFrame이라 그런듯)\n",
        "                f = open(\"/content/drive/MyDrive/apple_farm/new_data/test_male.csv\", 'a', newline='')\n",
        "                wr = csv.writer(f)\n",
        "                wr.writerow([find_row.wav_id.values[0], find_row.성별.values[0], wav_file]) # 값을 이런식으로 안가져오면 다른 정보도 포함됨\n",
        "                f.close()\n",
        "            elif (find_row.성별 == 'female').any():\n",
        "                f = open(\"/content/drive/MyDrive/apple_farm/new_data/test_female.csv\", 'a', newline='')\n",
        "                wr = csv.writer(f)\n",
        "                wr.writerow([find_row.wav_id.values[0], find_row.성별.values[0], wav_file])\n",
        "                f.close()\n",
        "        elif len(csv5_2.loc[csv5_2.wav_id == file_name, ]) != 0:\n",
        "            find_row = csv5_2.loc[csv5_2.wav_id == file_name, ])\n",
        "            if (find_row.성별 == 'male').any():\n",
        "                f = open(\"/content/drive/MyDrive/apple_farm/new_data/test_male.csv\", 'a', newline='')\n",
        "                wr = csv.writer(f)\n",
        "                wr.writerow([find_row.wav_id.values[0], find_row.성별.values[0], wav_file])\n",
        "                f.close()\n",
        "            elif (find_row.성별 == 'female').any():\n",
        "                f = open(\"/content/drive/MyDrive/apple_farm/new_data/test_female.csv\", 'a', newline='')\n",
        "                wr = csv.writer(f)\n",
        "                wr.writerow([find_row.wav_id.values[0], find_row.성별.values[0], wav_file])\n",
        "                f.close()\n",
        "    print(\"Complete\")"
      ],
      "metadata": {
        "colab": {
          "base_uri": "https://localhost:8080/"
        },
        "id": "pKtAqDcPWH9d",
        "outputId": "a665f44c-e7fc-41b1-80b9-a25e260a778a"
      },
      "execution_count": null,
      "outputs": [
        {
          "output_type": "stream",
          "name": "stdout",
          "text": [
            "Complete\n",
            "Complete\n",
            "Complete\n",
            "Complete\n",
            "Complete\n",
            "Complete\n",
            "Complete\n"
          ]
        }
      ]
    }
  ]
}